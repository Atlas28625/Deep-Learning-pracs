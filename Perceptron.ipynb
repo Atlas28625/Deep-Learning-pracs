{
 "cells": [
  {
   "cell_type": "markdown",
   "id": "a945b780",
   "metadata": {},
   "source": [
    "# Perceptron\n"
   ]
  },
  {
   "cell_type": "code",
   "execution_count": 3,
   "id": "44459026",
   "metadata": {},
   "outputs": [],
   "source": [
    "import numpy as np"
   ]
  },
  {
   "cell_type": "code",
   "execution_count": null,
   "id": "cc56073f",
   "metadata": {},
   "outputs": [],
   "source": [
    "def activation_function(w, x, bias):\n",
    "    activation = np.dot(w,x)"
   ]
  },
  {
   "cell_type": "code",
   "execution_count": 1,
   "id": "0d322edf",
   "metadata": {},
   "outputs": [],
   "source": [
    "def get_input():\n",
    "    x1 = int(input(\"Enter x1: \"))\n",
    "    x2 = int(input(\"Enter x2: \"))\n",
    "    return x1,x2"
   ]
  },
  {
   "cell_type": "code",
   "execution_count": 2,
   "id": "10ba2413",
   "metadata": {},
   "outputs": [],
   "source": [
    "def main():\n",
    "    print(\"Enter inputs\")\n",
    "    x1,x2 = get_input()\n",
    "    gt = input(\"Enter gate: \")\n",
    "    w1,w2,t = gate(gt.lower())\n",
    "    if (x1*w1) + (x2*w2) >= t:\n",
    "        print(\"1\")\n",
    "    else:\n",
    "        print(\"0\")"
   ]
  },
  {
   "cell_type": "code",
   "execution_count": 6,
   "id": "1deb6c2a",
   "metadata": {},
   "outputs": [],
   "source": [
    "test_x1 = np.array([0,0,1,1])\n",
    "test_x2 = np.array([0,1,0,1])\n",
    "y_exp = np.array([])"
   ]
  },
  {
   "cell_type": "code",
   "execution_count": null,
   "id": "8762f704",
   "metadata": {},
   "outputs": [],
   "source": []
  }
 ],
 "metadata": {
  "kernelspec": {
   "display_name": "Python 3 (ipykernel)",
   "language": "python",
   "name": "python3"
  },
  "language_info": {
   "codemirror_mode": {
    "name": "ipython",
    "version": 3
   },
   "file_extension": ".py",
   "mimetype": "text/x-python",
   "name": "python",
   "nbconvert_exporter": "python",
   "pygments_lexer": "ipython3",
   "version": "3.10.6"
  }
 },
 "nbformat": 4,
 "nbformat_minor": 5
}
